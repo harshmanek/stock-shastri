{
 "cells": [
  {
   "cell_type": "code",
   "execution_count": 1,
   "id": "6196c641-dfe9-438e-ad4b-54abd1bd6e6c",
   "metadata": {},
   "outputs": [
    {
     "name": "stdout",
     "output_type": "stream",
     "text": [
      "Columns: ['Unnamed: 0', 'Date', 'Title', 'Description', 'Ticker', 'Source']\n",
      "\n",
      "Sample rows:\n",
      "    Unnamed: 0        Date                                              Title  \\\n",
      "0     49997.0  2003-02-10          Net Scheduled Inflows Of Rs 1,559.9 Crore   \n",
      "1     49999.0  2003-02-10                    Sticky Loans Divide Consortiums   \n",
      "2     49998.0  2003-02-10      Rbi Calls Meet To Push Floating Rate Deposits   \n",
      "3     49993.0  2003-02-11   Crisil Scripts Risk Gauge Tool For Film Industry   \n",
      "4     49996.0  2003-02-11  Banks Plan To Raise Lending Rates Without Alte...   \n",
      "\n",
      "                                         Description Ticker        Source  \n",
      "0          Net Scheduled Inflows Of Rs 1,559.9 Crore    NaN  Original CSV  \n",
      "1                    Sticky Loans Divide Consortiums    NaN  Original CSV  \n",
      "2      Rbi Calls Meet To Push Floating Rate Deposits    NaN  Original CSV  \n",
      "3   Crisil Scripts Risk Gauge Tool For Film Industry    NaN  Original CSV  \n",
      "4  Banks Plan To Raise Lending Rates Without Alte...    NaN  Original CSV  \n"
     ]
    }
   ],
   "source": [
    "import pandas as pd\n",
    "\n",
    "# Load CSV\n",
    "df = pd.read_csv(\"../data/financial_news.csv\", parse_dates=[\"Date\"])\n",
    "\n",
    "# Show columns and sample\n",
    "print(\"Columns:\", df.columns.tolist())\n",
    "print(\"\\nSample rows:\\n\", df.head(5))\n"
   ]
  },
  {
   "cell_type": "code",
   "execution_count": 2,
   "id": "807e17b9-2cec-4226-ab49-bc3588349059",
   "metadata": {},
   "outputs": [
    {
     "name": "stdout",
     "output_type": "stream",
     "text": [
      "Date range: 2003-02-10 to 2025-10-02 15:56:23.734076\n"
     ]
    }
   ],
   "source": [
    "# Check date range\n",
    "print(\"Date range:\", df[\"Date\"].min(), \"to\", df[\"Date\"].max())\n"
   ]
  },
  {
   "cell_type": "code",
   "execution_count": 3,
   "id": "2232b200-bdd4-4bc5-b718-9f25f45546eb",
   "metadata": {},
   "outputs": [
    {
     "name": "stdout",
     "output_type": "stream",
     "text": [
      "\n",
      "Headlines per ticker:\n",
      "TCS: 1 rows\n",
      "HDFCBANK: 1 rows\n",
      "BAJFINANCE: 3 rows\n",
      "ASIANPAINT: 2 rows\n",
      "LEMONTREE: 6 rows\n",
      "VBL: 6 rows\n"
     ]
    }
   ],
   "source": [
    "# Count rows per ticker\n",
    "print(\"\\nHeadlines per ticker:\")\n",
    "for t in [\"TCS\",\"HDFCBANK\",\"BAJFINANCE\",\"ASIANPAINT\",\"LEMONTREE\",\"VBL\"]:\n",
    "    count = (df[\"Ticker\"] == t).sum()\n",
    "    print(f\"{t}: {count} rows\")\n"
   ]
  },
  {
   "cell_type": "code",
   "execution_count": 4,
   "id": "bc07b81e-905e-4722-b891-6d330b3f6eb0",
   "metadata": {},
   "outputs": [
    {
     "name": "stdout",
     "output_type": "stream",
     "text": [
      " Volume in drive D is New Volume\n",
      " Volume Serial Number is FEBC-1154\n",
      "\n",
      " Directory of D:\\PROJECTS\\stock-shastri\\notebooks\n",
      "\n"
     ]
    },
    {
     "name": "stderr",
     "output_type": "stream",
     "text": [
      "File Not Found\n"
     ]
    }
   ],
   "source": [
    "# List your data folder contents\n",
    "!dir data"
   ]
  },
  {
   "cell_type": "code",
   "execution_count": 5,
   "id": "7fd119f2-fea7-468b-bc2b-49fb1c76bb2d",
   "metadata": {},
   "outputs": [
    {
     "name": "stderr",
     "output_type": "stream",
     "text": [
      "'head' is not recognized as an internal or external command,\n",
      "operable program or batch file.\n"
     ]
    }
   ],
   "source": [
    "# Quick look at the first few lines of your CSV\n",
    "!head -n 10 data/financial_news.csv"
   ]
  },
  {
   "cell_type": "code",
   "execution_count": 6,
   "id": "48b9bf22-56b8-4f9f-a71b-bd78582d6d83",
   "metadata": {},
   "outputs": [
    {
     "ename": "ImportError",
     "evalue": "cannot import name 'DATABASE_CONFIG' from 'config' (C:\\Users\\harsh\\AppData\\Local\\Programs\\Python\\Python312\\Lib\\site-packages\\config\\__init__.py)",
     "output_type": "error",
     "traceback": [
      "\u001b[1;31m---------------------------------------------------------------------------\u001b[0m",
      "\u001b[1;31mImportError\u001b[0m                               Traceback (most recent call last)",
      "Cell \u001b[1;32mIn[6], line 2\u001b[0m\n\u001b[0;32m      1\u001b[0m \u001b[38;5;28;01mimport\u001b[39;00m \u001b[38;5;21;01mmysql\u001b[39;00m\u001b[38;5;21;01m.\u001b[39;00m\u001b[38;5;21;01mconnector\u001b[39;00m\n\u001b[1;32m----> 2\u001b[0m \u001b[38;5;28;01mfrom\u001b[39;00m \u001b[38;5;21;01mconfig\u001b[39;00m \u001b[38;5;28;01mimport\u001b[39;00m DATABASE_CONFIG\n\u001b[0;32m      4\u001b[0m conn \u001b[38;5;241m=\u001b[39m mysql\u001b[38;5;241m.\u001b[39mconnector\u001b[38;5;241m.\u001b[39mconnect(\u001b[38;5;241m*\u001b[39m\u001b[38;5;241m*\u001b[39mDATABASE_CONFIG)\n\u001b[0;32m      5\u001b[0m cur \u001b[38;5;241m=\u001b[39m conn\u001b[38;5;241m.\u001b[39mcursor()\n",
      "\u001b[1;31mImportError\u001b[0m: cannot import name 'DATABASE_CONFIG' from 'config' (C:\\Users\\harsh\\AppData\\Local\\Programs\\Python\\Python312\\Lib\\site-packages\\config\\__init__.py)"
     ]
    }
   ],
   "source": [
    "import mysql.connector\n",
    "from config import DATABASE_CONFIG\n",
    "\n",
    "conn = mysql.connector.connect(**DATABASE_CONFIG)\n",
    "cur = conn.cursor()\n",
    "cur.execute(\"TRUNCATE TABLE sentiment_data\")\n",
    "conn.commit()\n",
    "cur.close()\n",
    "conn.close()\n",
    "print(\"✅ sentiment_data table truncated\")"
   ]
  },
  {
   "cell_type": "code",
   "execution_count": 9,
   "id": "112707d5-7507-4efe-8966-99620ddf727b",
   "metadata": {},
   "outputs": [
    {
     "name": "stdout",
     "output_type": "stream",
     "text": [
      "Collecting config\n",
      "  Downloading config-0.5.1-py2.py3-none-any.whl.metadata (1.4 kB)\n",
      "Downloading config-0.5.1-py2.py3-none-any.whl (20 kB)\n",
      "Installing collected packages: config\n",
      "Successfully installed config-0.5.1\n"
     ]
    },
    {
     "name": "stderr",
     "output_type": "stream",
     "text": [
      "\n",
      "[notice] A new release of pip is available: 24.0 -> 25.2\n",
      "[notice] To update, run: python.exe -m pip install --upgrade pip\n"
     ]
    }
   ],
   "source": [
    "!pip install config"
   ]
  },
  {
   "cell_type": "code",
   "execution_count": 13,
   "id": "c3f2b6e8-fef5-48f8-9377-3f6ad538ad87",
   "metadata": {},
   "outputs": [
    {
     "ename": "ImportError",
     "evalue": "cannot import name 'DATABASE_CONFIG' from 'config' (C:\\Users\\harsh\\AppData\\Local\\Programs\\Python\\Python312\\Lib\\site-packages\\config\\__init__.py)",
     "output_type": "error",
     "traceback": [
      "\u001b[1;31m---------------------------------------------------------------------------\u001b[0m",
      "\u001b[1;31mImportError\u001b[0m                               Traceback (most recent call last)",
      "Cell \u001b[1;32mIn[13], line 10\u001b[0m\n\u001b[0;32m      7\u001b[0m     sys\u001b[38;5;241m.\u001b[39mpath\u001b[38;5;241m.\u001b[39minsert(\u001b[38;5;241m0\u001b[39m, project_root)\n\u001b[0;32m      9\u001b[0m \u001b[38;5;66;03m# Now import your local config\u001b[39;00m\n\u001b[1;32m---> 10\u001b[0m \u001b[38;5;28;01mfrom\u001b[39;00m \u001b[38;5;21;01mconfig\u001b[39;00m \u001b[38;5;28;01mimport\u001b[39;00m DATABASE_CONFIG\n\u001b[0;32m     12\u001b[0m \u001b[38;5;28;01mimport\u001b[39;00m \u001b[38;5;21;01mmysql\u001b[39;00m\u001b[38;5;21;01m.\u001b[39;00m\u001b[38;5;21;01mconnector\u001b[39;00m\n\u001b[0;32m     14\u001b[0m \u001b[38;5;66;03m# Truncate the sentiment_data table\u001b[39;00m\n",
      "\u001b[1;31mImportError\u001b[0m: cannot import name 'DATABASE_CONFIG' from 'config' (C:\\Users\\harsh\\AppData\\Local\\Programs\\Python\\Python312\\Lib\\site-packages\\config\\__init__.py)"
     ]
    }
   ],
   "source": [
    "import sys\n",
    "import os\n",
    "\n",
    "# Adjust this path to point at your project root\n",
    "project_root = os.path.abspath(os.path.join(os.getcwd(), '..'))\n",
    "if project_root not in sys.path:\n",
    "    sys.path.insert(0, project_root)\n",
    "\n",
    "# Now import your local config\n",
    "from config import DATABASE_CONFIG\n",
    "\n",
    "import mysql.connector\n",
    "\n",
    "# Truncate the sentiment_data table\n",
    "conn = mysql.connector.connect(**DATABASE_CONFIG)\n",
    "cur = conn.cursor()\n",
    "cur.execute(\"TRUNCATE TABLE sentiment_data\")\n",
    "conn.commit()\n",
    "cur.close()\n",
    "conn.close()\n",
    "\n",
    "print(\"✅ sentiment_data table truncated\")\n"
   ]
  },
  {
   "cell_type": "code",
   "execution_count": 10,
   "id": "4f6c57dc-b324-4e38-b093-9c787d04fba5",
   "metadata": {},
   "outputs": [
    {
     "ename": "ImportError",
     "evalue": "cannot import name 'DATABASE_CONFIG' from 'config' (C:\\Users\\harsh\\AppData\\Local\\Programs\\Python\\Python312\\Lib\\site-packages\\config\\__init__.py)",
     "output_type": "error",
     "traceback": [
      "\u001b[1;31m---------------------------------------------------------------------------\u001b[0m",
      "\u001b[1;31mImportError\u001b[0m                               Traceback (most recent call last)",
      "Cell \u001b[1;32mIn[10], line 2\u001b[0m\n\u001b[0;32m      1\u001b[0m \u001b[38;5;28;01mimport\u001b[39;00m \u001b[38;5;21;01mmysql\u001b[39;00m\u001b[38;5;21;01m.\u001b[39;00m\u001b[38;5;21;01mconnector\u001b[39;00m\n\u001b[1;32m----> 2\u001b[0m \u001b[38;5;28;01mfrom\u001b[39;00m \u001b[38;5;21;01mconfig\u001b[39;00m \u001b[38;5;28;01mimport\u001b[39;00m DATABASE_CONFIG\n\u001b[0;32m      4\u001b[0m conn \u001b[38;5;241m=\u001b[39m mysql\u001b[38;5;241m.\u001b[39mconnector\u001b[38;5;241m.\u001b[39mconnect(\u001b[38;5;241m*\u001b[39m\u001b[38;5;241m*\u001b[39mDATABASE_CONFIG)\n\u001b[0;32m      5\u001b[0m cur \u001b[38;5;241m=\u001b[39m conn\u001b[38;5;241m.\u001b[39mcursor()\n",
      "\u001b[1;31mImportError\u001b[0m: cannot import name 'DATABASE_CONFIG' from 'config' (C:\\Users\\harsh\\AppData\\Local\\Programs\\Python\\Python312\\Lib\\site-packages\\config\\__init__.py)"
     ]
    }
   ],
   "source": [
    "import mysql.connector\n",
    "from config import DATABASE_CONFIG\n",
    "\n",
    "conn = mysql.connector.connect(**DATABASE_CONFIG)\n",
    "cur = conn.cursor()\n",
    "cur.execute(\"TRUNCATE TABLE sentiment_data\")\n",
    "conn.commit()\n",
    "cur.close()\n",
    "conn.close()\n",
    "print(\"✅ sentiment_data table truncated\")"
   ]
  },
  {
   "cell_type": "code",
   "execution_count": 12,
   "id": "3f9f6efb-1e91-4e26-a67c-378e2045297b",
   "metadata": {},
   "outputs": [
    {
     "ename": "ImportError",
     "evalue": "cannot import name 'DATABASE_CONFIG' from 'config' (C:\\Users\\harsh\\AppData\\Local\\Programs\\Python\\Python312\\Lib\\site-packages\\config\\__init__.py)",
     "output_type": "error",
     "traceback": [
      "\u001b[1;31m---------------------------------------------------------------------------\u001b[0m",
      "\u001b[1;31mImportError\u001b[0m                               Traceback (most recent call last)",
      "Cell \u001b[1;32mIn[12], line 10\u001b[0m\n\u001b[0;32m      7\u001b[0m     sys\u001b[38;5;241m.\u001b[39mpath\u001b[38;5;241m.\u001b[39minsert(\u001b[38;5;241m0\u001b[39m, project_root)\n\u001b[0;32m      9\u001b[0m \u001b[38;5;66;03m# Now import your local config\u001b[39;00m\n\u001b[1;32m---> 10\u001b[0m \u001b[38;5;28;01mfrom\u001b[39;00m \u001b[38;5;21;01mconfig\u001b[39;00m \u001b[38;5;28;01mimport\u001b[39;00m DATABASE_CONFIG\n\u001b[0;32m     12\u001b[0m \u001b[38;5;28;01mimport\u001b[39;00m \u001b[38;5;21;01mmysql\u001b[39;00m\u001b[38;5;21;01m.\u001b[39;00m\u001b[38;5;21;01mconnector\u001b[39;00m\n\u001b[0;32m     14\u001b[0m \u001b[38;5;66;03m# Truncate the sentiment_data table\u001b[39;00m\n",
      "\u001b[1;31mImportError\u001b[0m: cannot import name 'DATABASE_CONFIG' from 'config' (C:\\Users\\harsh\\AppData\\Local\\Programs\\Python\\Python312\\Lib\\site-packages\\config\\__init__.py)"
     ]
    }
   ],
   "source": [
    "import sys\n",
    "import os\n",
    "\n",
    "# Adjust this path to point at your project root\n",
    "project_root = os.path.abspath(os.path.join(os.getcwd(), '..'))\n",
    "if project_root not in sys.path:\n",
    "    sys.path.insert(0, project_root)\n",
    "\n",
    "# Now import your local config\n",
    "from config import DATABASE_CONFIG\n",
    "\n",
    "import mysql.connector\n",
    "\n",
    "# Truncate the sentiment_data table\n",
    "conn = mysql.connector.connect(**DATABASE_CONFIG)\n",
    "cur = conn.cursor()\n",
    "cur.execute(\"TRUNCATE TABLE sentiment_data\")\n",
    "conn.commit()\n",
    "cur.close()\n",
    "conn.close()\n",
    "\n",
    "print(\"✅ sentiment_data table truncated\")\n"
   ]
  },
  {
   "cell_type": "code",
   "execution_count": 11,
   "id": "4fd5124f-98fa-4a28-b454-799dd5d8da12",
   "metadata": {},
   "outputs": [
    {
     "ename": "ImportError",
     "evalue": "cannot import name 'DATABASE_CONFIG' from 'config' (C:\\Users\\harsh\\AppData\\Local\\Programs\\Python\\Python312\\Lib\\site-packages\\config\\__init__.py)",
     "output_type": "error",
     "traceback": [
      "\u001b[1;31m---------------------------------------------------------------------------\u001b[0m",
      "\u001b[1;31mImportError\u001b[0m                               Traceback (most recent call last)",
      "Cell \u001b[1;32mIn[11], line 2\u001b[0m\n\u001b[0;32m      1\u001b[0m \u001b[38;5;28;01mimport\u001b[39;00m \u001b[38;5;21;01mmysql\u001b[39;00m\u001b[38;5;21;01m.\u001b[39;00m\u001b[38;5;21;01mconnector\u001b[39;00m\n\u001b[1;32m----> 2\u001b[0m \u001b[38;5;28;01mfrom\u001b[39;00m \u001b[38;5;21;01mconfig\u001b[39;00m \u001b[38;5;28;01mimport\u001b[39;00m DATABASE_CONFIG\n\u001b[0;32m      4\u001b[0m \u001b[38;5;66;03m# Connect and truncate sentiment_data\u001b[39;00m\n\u001b[0;32m      5\u001b[0m conn \u001b[38;5;241m=\u001b[39m mysql\u001b[38;5;241m.\u001b[39mconnector\u001b[38;5;241m.\u001b[39mconnect(\u001b[38;5;241m*\u001b[39m\u001b[38;5;241m*\u001b[39mDATABASE_CONFIG)\n",
      "\u001b[1;31mImportError\u001b[0m: cannot import name 'DATABASE_CONFIG' from 'config' (C:\\Users\\harsh\\AppData\\Local\\Programs\\Python\\Python312\\Lib\\site-packages\\config\\__init__.py)"
     ]
    }
   ],
   "source": [
    "import mysql.connector\n",
    "from config import DATABASE_CONFIG\n",
    "\n",
    "# Connect and truncate sentiment_data\n",
    "conn = mysql.connector.connect(**DATABASE_CONFIG)\n",
    "cur = conn.cursor()\n",
    "cur.execute(\"TRUNCATE TABLE sentiment_data\")\n",
    "conn.commit()\n",
    "cur.close()\n",
    "conn.close()\n",
    "\n",
    "print(\"✅ sentiment_data table truncated\")\n"
   ]
  },
  {
   "cell_type": "code",
   "execution_count": null,
   "id": "6c7e6723-ebd4-4d0a-8819-e97e3ff2d87e",
   "metadata": {},
   "outputs": [],
   "source": []
  }
 ],
 "metadata": {
  "kernelspec": {
   "display_name": "Python 3 (ipykernel)",
   "language": "python",
   "name": "python3"
  },
  "language_info": {
   "codemirror_mode": {
    "name": "ipython",
    "version": 3
   },
   "file_extension": ".py",
   "mimetype": "text/x-python",
   "name": "python",
   "nbconvert_exporter": "python",
   "pygments_lexer": "ipython3",
   "version": "3.12.3"
  }
 },
 "nbformat": 4,
 "nbformat_minor": 5
}
